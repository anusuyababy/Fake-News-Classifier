{
  "nbformat": 4,
  "nbformat_minor": 0,
  "metadata": {
    "colab": {
      "name": "Fake_News_Classifier_(combining_both_title_and_text)_using_PASSIVEAGGRESSIVE_CLASSIFIER (STEMMING AND COUNT VECTORIZER).ipynb",
      "provenance": [],
      "collapsed_sections": []
    },
    "kernelspec": {
      "name": "python3",
      "display_name": "Python 3"
    }
  },
  "cells": [
    {
      "cell_type": "code",
      "metadata": {
        "id": "N1nYkbHnx2zz",
        "outputId": "8b76e13d-9f84-4d2e-a09a-2388ada48a9c",
        "colab": {
          "base_uri": "https://localhost:8080/",
          "height": 90
        }
      },
      "source": [
        "import numpy as np\n",
        "import pandas as pd\n",
        "import nltk\n",
        "nltk.download('stopwords')\n",
        "nltk.download('wordnet')\n",
        "import re"
      ],
      "execution_count": 1,
      "outputs": [
        {
          "output_type": "stream",
          "text": [
            "[nltk_data] Downloading package stopwords to /root/nltk_data...\n",
            "[nltk_data]   Unzipping corpora/stopwords.zip.\n",
            "[nltk_data] Downloading package wordnet to /root/nltk_data...\n",
            "[nltk_data]   Unzipping corpora/wordnet.zip.\n"
          ],
          "name": "stdout"
        }
      ]
    },
    {
      "cell_type": "code",
      "metadata": {
        "id": "u-UQ5n39zC1H",
        "outputId": "876a630a-2efd-458c-f22c-133bcdb39fa2",
        "colab": {
          "base_uri": "https://localhost:8080/",
          "height": 224
        }
      },
      "source": [
        "df=pd.read_csv('/content/train.csv')\n",
        "df.head()"
      ],
      "execution_count": 3,
      "outputs": [
        {
          "output_type": "execute_result",
          "data": {
            "text/html": [
              "<div>\n",
              "<style scoped>\n",
              "    .dataframe tbody tr th:only-of-type {\n",
              "        vertical-align: middle;\n",
              "    }\n",
              "\n",
              "    .dataframe tbody tr th {\n",
              "        vertical-align: top;\n",
              "    }\n",
              "\n",
              "    .dataframe thead th {\n",
              "        text-align: right;\n",
              "    }\n",
              "</style>\n",
              "<table border=\"1\" class=\"dataframe\">\n",
              "  <thead>\n",
              "    <tr style=\"text-align: right;\">\n",
              "      <th></th>\n",
              "      <th>id</th>\n",
              "      <th>title</th>\n",
              "      <th>author</th>\n",
              "      <th>text</th>\n",
              "      <th>label</th>\n",
              "    </tr>\n",
              "  </thead>\n",
              "  <tbody>\n",
              "    <tr>\n",
              "      <th>0</th>\n",
              "      <td>0</td>\n",
              "      <td>House Dem Aide: We Didn’t Even See Comey’s Let...</td>\n",
              "      <td>Darrell Lucus</td>\n",
              "      <td>House Dem Aide: We Didn’t Even See Comey’s Let...</td>\n",
              "      <td>1</td>\n",
              "    </tr>\n",
              "    <tr>\n",
              "      <th>1</th>\n",
              "      <td>1</td>\n",
              "      <td>FLYNN: Hillary Clinton, Big Woman on Campus - ...</td>\n",
              "      <td>Daniel J. Flynn</td>\n",
              "      <td>Ever get the feeling your life circles the rou...</td>\n",
              "      <td>0</td>\n",
              "    </tr>\n",
              "    <tr>\n",
              "      <th>2</th>\n",
              "      <td>2</td>\n",
              "      <td>Why the Truth Might Get You Fired</td>\n",
              "      <td>Consortiumnews.com</td>\n",
              "      <td>Why the Truth Might Get You Fired October 29, ...</td>\n",
              "      <td>1</td>\n",
              "    </tr>\n",
              "    <tr>\n",
              "      <th>3</th>\n",
              "      <td>3</td>\n",
              "      <td>15 Civilians Killed In Single US Airstrike Hav...</td>\n",
              "      <td>Jessica Purkiss</td>\n",
              "      <td>Videos 15 Civilians Killed In Single US Airstr...</td>\n",
              "      <td>1</td>\n",
              "    </tr>\n",
              "    <tr>\n",
              "      <th>4</th>\n",
              "      <td>4</td>\n",
              "      <td>Iranian woman jailed for fictional unpublished...</td>\n",
              "      <td>Howard Portnoy</td>\n",
              "      <td>Print \\nAn Iranian woman has been sentenced to...</td>\n",
              "      <td>1</td>\n",
              "    </tr>\n",
              "  </tbody>\n",
              "</table>\n",
              "</div>"
            ],
            "text/plain": [
              "   id  ... label\n",
              "0   0  ...     1\n",
              "1   1  ...     0\n",
              "2   2  ...     1\n",
              "3   3  ...     1\n",
              "4   4  ...     1\n",
              "\n",
              "[5 rows x 5 columns]"
            ]
          },
          "metadata": {
            "tags": []
          },
          "execution_count": 3
        }
      ]
    },
    {
      "cell_type": "code",
      "metadata": {
        "id": "SDGz8SoRzDdz",
        "outputId": "463a299b-4187-4bc6-a19e-11895134d35f",
        "colab": {
          "base_uri": "https://localhost:8080/",
          "height": 35
        }
      },
      "source": [
        "df.shape"
      ],
      "execution_count": 4,
      "outputs": [
        {
          "output_type": "execute_result",
          "data": {
            "text/plain": [
              "(20800, 5)"
            ]
          },
          "metadata": {
            "tags": []
          },
          "execution_count": 4
        }
      ]
    },
    {
      "cell_type": "code",
      "metadata": {
        "id": "lahxH36jzEIH",
        "outputId": "d32956c5-4b82-4e83-ea11-fefb4a3dff5e",
        "colab": {
          "base_uri": "https://localhost:8080/",
          "height": 127
        }
      },
      "source": [
        "df.isnull().sum()"
      ],
      "execution_count": 6,
      "outputs": [
        {
          "output_type": "execute_result",
          "data": {
            "text/plain": [
              "id           0\n",
              "title      558\n",
              "author    1957\n",
              "text        39\n",
              "label        0\n",
              "dtype: int64"
            ]
          },
          "metadata": {
            "tags": []
          },
          "execution_count": 6
        }
      ]
    },
    {
      "cell_type": "code",
      "metadata": {
        "id": "lh8Rk_nZzEm6",
        "outputId": "072dfe59-44cc-40d8-c30a-e7ab00a4c3e4",
        "colab": {
          "base_uri": "https://localhost:8080/",
          "height": 35
        }
      },
      "source": [
        "df=df.dropna()\n",
        "df.shape"
      ],
      "execution_count": 7,
      "outputs": [
        {
          "output_type": "execute_result",
          "data": {
            "text/plain": [
              "(18285, 5)"
            ]
          },
          "metadata": {
            "tags": []
          },
          "execution_count": 7
        }
      ]
    },
    {
      "cell_type": "code",
      "metadata": {
        "id": "5sRN8m8BzFGy"
      },
      "source": [
        "df.reset_index(inplace=True)"
      ],
      "execution_count": 8,
      "outputs": []
    },
    {
      "cell_type": "code",
      "metadata": {
        "id": "SfI683mzzFvm",
        "outputId": "f23bc083-2415-494d-fbad-55b483944e81",
        "colab": {
          "base_uri": "https://localhost:8080/",
          "height": 537
        }
      },
      "source": [
        "df.head(10)"
      ],
      "execution_count": 9,
      "outputs": [
        {
          "output_type": "execute_result",
          "data": {
            "text/html": [
              "<div>\n",
              "<style scoped>\n",
              "    .dataframe tbody tr th:only-of-type {\n",
              "        vertical-align: middle;\n",
              "    }\n",
              "\n",
              "    .dataframe tbody tr th {\n",
              "        vertical-align: top;\n",
              "    }\n",
              "\n",
              "    .dataframe thead th {\n",
              "        text-align: right;\n",
              "    }\n",
              "</style>\n",
              "<table border=\"1\" class=\"dataframe\">\n",
              "  <thead>\n",
              "    <tr style=\"text-align: right;\">\n",
              "      <th></th>\n",
              "      <th>index</th>\n",
              "      <th>id</th>\n",
              "      <th>title</th>\n",
              "      <th>author</th>\n",
              "      <th>text</th>\n",
              "      <th>label</th>\n",
              "    </tr>\n",
              "  </thead>\n",
              "  <tbody>\n",
              "    <tr>\n",
              "      <th>0</th>\n",
              "      <td>0</td>\n",
              "      <td>0</td>\n",
              "      <td>House Dem Aide: We Didn’t Even See Comey’s Let...</td>\n",
              "      <td>Darrell Lucus</td>\n",
              "      <td>House Dem Aide: We Didn’t Even See Comey’s Let...</td>\n",
              "      <td>1</td>\n",
              "    </tr>\n",
              "    <tr>\n",
              "      <th>1</th>\n",
              "      <td>1</td>\n",
              "      <td>1</td>\n",
              "      <td>FLYNN: Hillary Clinton, Big Woman on Campus - ...</td>\n",
              "      <td>Daniel J. Flynn</td>\n",
              "      <td>Ever get the feeling your life circles the rou...</td>\n",
              "      <td>0</td>\n",
              "    </tr>\n",
              "    <tr>\n",
              "      <th>2</th>\n",
              "      <td>2</td>\n",
              "      <td>2</td>\n",
              "      <td>Why the Truth Might Get You Fired</td>\n",
              "      <td>Consortiumnews.com</td>\n",
              "      <td>Why the Truth Might Get You Fired October 29, ...</td>\n",
              "      <td>1</td>\n",
              "    </tr>\n",
              "    <tr>\n",
              "      <th>3</th>\n",
              "      <td>3</td>\n",
              "      <td>3</td>\n",
              "      <td>15 Civilians Killed In Single US Airstrike Hav...</td>\n",
              "      <td>Jessica Purkiss</td>\n",
              "      <td>Videos 15 Civilians Killed In Single US Airstr...</td>\n",
              "      <td>1</td>\n",
              "    </tr>\n",
              "    <tr>\n",
              "      <th>4</th>\n",
              "      <td>4</td>\n",
              "      <td>4</td>\n",
              "      <td>Iranian woman jailed for fictional unpublished...</td>\n",
              "      <td>Howard Portnoy</td>\n",
              "      <td>Print \\nAn Iranian woman has been sentenced to...</td>\n",
              "      <td>1</td>\n",
              "    </tr>\n",
              "    <tr>\n",
              "      <th>5</th>\n",
              "      <td>5</td>\n",
              "      <td>5</td>\n",
              "      <td>Jackie Mason: Hollywood Would Love Trump if He...</td>\n",
              "      <td>Daniel Nussbaum</td>\n",
              "      <td>In these trying times, Jackie Mason is the Voi...</td>\n",
              "      <td>0</td>\n",
              "    </tr>\n",
              "    <tr>\n",
              "      <th>6</th>\n",
              "      <td>7</td>\n",
              "      <td>7</td>\n",
              "      <td>Benoît Hamon Wins French Socialist Party’s Pre...</td>\n",
              "      <td>Alissa J. Rubin</td>\n",
              "      <td>PARIS  —   France chose an idealistic, traditi...</td>\n",
              "      <td>0</td>\n",
              "    </tr>\n",
              "    <tr>\n",
              "      <th>7</th>\n",
              "      <td>9</td>\n",
              "      <td>9</td>\n",
              "      <td>A Back-Channel Plan for Ukraine and Russia, Co...</td>\n",
              "      <td>Megan Twohey and Scott Shane</td>\n",
              "      <td>A week before Michael T. Flynn resigned as nat...</td>\n",
              "      <td>0</td>\n",
              "    </tr>\n",
              "    <tr>\n",
              "      <th>8</th>\n",
              "      <td>10</td>\n",
              "      <td>10</td>\n",
              "      <td>Obama’s Organizing for Action Partners with So...</td>\n",
              "      <td>Aaron Klein</td>\n",
              "      <td>Organizing for Action, the activist group that...</td>\n",
              "      <td>0</td>\n",
              "    </tr>\n",
              "    <tr>\n",
              "      <th>9</th>\n",
              "      <td>11</td>\n",
              "      <td>11</td>\n",
              "      <td>BBC Comedy Sketch \"Real Housewives of ISIS\" Ca...</td>\n",
              "      <td>Chris Tomlinson</td>\n",
              "      <td>The BBC produced spoof on the “Real Housewives...</td>\n",
              "      <td>0</td>\n",
              "    </tr>\n",
              "  </tbody>\n",
              "</table>\n",
              "</div>"
            ],
            "text/plain": [
              "   index  id  ...                                               text label\n",
              "0      0   0  ...  House Dem Aide: We Didn’t Even See Comey’s Let...     1\n",
              "1      1   1  ...  Ever get the feeling your life circles the rou...     0\n",
              "2      2   2  ...  Why the Truth Might Get You Fired October 29, ...     1\n",
              "3      3   3  ...  Videos 15 Civilians Killed In Single US Airstr...     1\n",
              "4      4   4  ...  Print \\nAn Iranian woman has been sentenced to...     1\n",
              "5      5   5  ...  In these trying times, Jackie Mason is the Voi...     0\n",
              "6      7   7  ...  PARIS  —   France chose an idealistic, traditi...     0\n",
              "7      9   9  ...  A week before Michael T. Flynn resigned as nat...     0\n",
              "8     10  10  ...  Organizing for Action, the activist group that...     0\n",
              "9     11  11  ...  The BBC produced spoof on the “Real Housewives...     0\n",
              "\n",
              "[10 rows x 6 columns]"
            ]
          },
          "metadata": {
            "tags": []
          },
          "execution_count": 9
        }
      ]
    },
    {
      "cell_type": "code",
      "metadata": {
        "id": "1fu8oyjSzGWI",
        "outputId": "a05a7467-26af-4032-90d9-1a3d0817c6f1",
        "colab": {
          "base_uri": "https://localhost:8080/",
          "height": 293
        }
      },
      "source": [
        "df['combine']= df['title'] +' '+ df['text']\n",
        "df.head()"
      ],
      "execution_count": 10,
      "outputs": [
        {
          "output_type": "execute_result",
          "data": {
            "text/html": [
              "<div>\n",
              "<style scoped>\n",
              "    .dataframe tbody tr th:only-of-type {\n",
              "        vertical-align: middle;\n",
              "    }\n",
              "\n",
              "    .dataframe tbody tr th {\n",
              "        vertical-align: top;\n",
              "    }\n",
              "\n",
              "    .dataframe thead th {\n",
              "        text-align: right;\n",
              "    }\n",
              "</style>\n",
              "<table border=\"1\" class=\"dataframe\">\n",
              "  <thead>\n",
              "    <tr style=\"text-align: right;\">\n",
              "      <th></th>\n",
              "      <th>index</th>\n",
              "      <th>id</th>\n",
              "      <th>title</th>\n",
              "      <th>author</th>\n",
              "      <th>text</th>\n",
              "      <th>label</th>\n",
              "      <th>combine</th>\n",
              "    </tr>\n",
              "  </thead>\n",
              "  <tbody>\n",
              "    <tr>\n",
              "      <th>0</th>\n",
              "      <td>0</td>\n",
              "      <td>0</td>\n",
              "      <td>House Dem Aide: We Didn’t Even See Comey’s Let...</td>\n",
              "      <td>Darrell Lucus</td>\n",
              "      <td>House Dem Aide: We Didn’t Even See Comey’s Let...</td>\n",
              "      <td>1</td>\n",
              "      <td>House Dem Aide: We Didn’t Even See Comey’s Let...</td>\n",
              "    </tr>\n",
              "    <tr>\n",
              "      <th>1</th>\n",
              "      <td>1</td>\n",
              "      <td>1</td>\n",
              "      <td>FLYNN: Hillary Clinton, Big Woman on Campus - ...</td>\n",
              "      <td>Daniel J. Flynn</td>\n",
              "      <td>Ever get the feeling your life circles the rou...</td>\n",
              "      <td>0</td>\n",
              "      <td>FLYNN: Hillary Clinton, Big Woman on Campus - ...</td>\n",
              "    </tr>\n",
              "    <tr>\n",
              "      <th>2</th>\n",
              "      <td>2</td>\n",
              "      <td>2</td>\n",
              "      <td>Why the Truth Might Get You Fired</td>\n",
              "      <td>Consortiumnews.com</td>\n",
              "      <td>Why the Truth Might Get You Fired October 29, ...</td>\n",
              "      <td>1</td>\n",
              "      <td>Why the Truth Might Get You Fired Why the Trut...</td>\n",
              "    </tr>\n",
              "    <tr>\n",
              "      <th>3</th>\n",
              "      <td>3</td>\n",
              "      <td>3</td>\n",
              "      <td>15 Civilians Killed In Single US Airstrike Hav...</td>\n",
              "      <td>Jessica Purkiss</td>\n",
              "      <td>Videos 15 Civilians Killed In Single US Airstr...</td>\n",
              "      <td>1</td>\n",
              "      <td>15 Civilians Killed In Single US Airstrike Hav...</td>\n",
              "    </tr>\n",
              "    <tr>\n",
              "      <th>4</th>\n",
              "      <td>4</td>\n",
              "      <td>4</td>\n",
              "      <td>Iranian woman jailed for fictional unpublished...</td>\n",
              "      <td>Howard Portnoy</td>\n",
              "      <td>Print \\nAn Iranian woman has been sentenced to...</td>\n",
              "      <td>1</td>\n",
              "      <td>Iranian woman jailed for fictional unpublished...</td>\n",
              "    </tr>\n",
              "  </tbody>\n",
              "</table>\n",
              "</div>"
            ],
            "text/plain": [
              "   index  id  ... label                                            combine\n",
              "0      0   0  ...     1  House Dem Aide: We Didn’t Even See Comey’s Let...\n",
              "1      1   1  ...     0  FLYNN: Hillary Clinton, Big Woman on Campus - ...\n",
              "2      2   2  ...     1  Why the Truth Might Get You Fired Why the Trut...\n",
              "3      3   3  ...     1  15 Civilians Killed In Single US Airstrike Hav...\n",
              "4      4   4  ...     1  Iranian woman jailed for fictional unpublished...\n",
              "\n",
              "[5 rows x 7 columns]"
            ]
          },
          "metadata": {
            "tags": []
          },
          "execution_count": 10
        }
      ]
    },
    {
      "cell_type": "code",
      "metadata": {
        "id": "sl5ZOuUTzG5j",
        "outputId": "ec4e8ab3-65b9-43d6-d7ee-e75810eeb096",
        "colab": {
          "base_uri": "https://localhost:8080/",
          "height": 183
        }
      },
      "source": [
        "df['combine'][2]"
      ],
      "execution_count": 11,
      "outputs": [
        {
          "output_type": "execute_result",
          "data": {
            "application/vnd.google.colaboratory.intrinsic+json": {
              "type": "string"
            },
            "text/plain": [
              "'Why the Truth Might Get You Fired Why the Truth Might Get You Fired October 29, 2016 \\nThe tension between intelligence analysts and political policymakers has always been between honest assessments and desired results, with the latter often overwhelming the former, as in the Iraq War, writes Lawrence Davidson. \\nBy Lawrence Davidson \\nFor those who might wonder why foreign policy makers repeatedly make bad choices, some insight might be drawn from the following analysis. The action here plays out in the United States, but the lessons are probably universal. \\nBack in the early spring of 2003, George W. Bush initiated the invasion of Iraq. One of his key public reasons for doing so was the claim that the country’s dictator, Saddam Hussein, was on the verge of developing nuclear weapons and was hiding other weapons of mass destruction. The real reason went beyond that charge and included a long-range plan for “regime change” in the Middle East. President George W. Bush and Vice President Dick Cheney receive an Oval Office briefing from CIA Director George Tenet. Also present is Chief of Staff Andy Card (on right). (White House photo) \\nFor our purposes, we will concentrate on the belief that Iraq was about to become a hostile nuclear power. Why did President Bush and his close associates accept this scenario so readily? \\nThe short answer is Bush wanted, indeed needed, to believe it as a rationale for invading Iraq. At first he had tried to connect Saddam Hussein to the 9/11 attacks on the U.S. Though he never gave up on that stratagem, the lack of evidence made it difficult to rally an American people, already fixated on Afghanistan, to support a war against Baghdad. \\nBut the nuclear weapons gambit proved more fruitful, not because there was any hard evidence for the charge, but because supposedly reliable witnesses, in the persons of exiled anti-Saddam Iraqis (many on the U.S. government’s payroll ), kept telling Bush and his advisers that the nuclear story was true. \\nWhat we had was a U.S. leadership cadre whose worldview literally demanded a mortally dangerous Iraq, and informants who, in order to precipitate the overthrow of Saddam, were willing to tell the tale of pending atomic weapons. The strong desire to believe the tale of a nuclear Iraq lowered the threshold for proof . Likewise, the repeated assertions by assumed dependable Iraqi sources underpinned a nationwide U.S. campaign generating both fear and war fever. \\nSo the U.S. and its allies insisted that the United Nations send in weapons inspectors to scour Iraq for evidence of a nuclear weapons program (as well as chemical and biological weapons). That the inspectors could find no convincing evidence only frustrated the Bush administration and soon forced its hand. \\nOn March 19, 2003, Bush launched the invasion of Iraq with the expectation was that, once in occupation of the country, U.S. inspectors would surely find evidence of those nukes (or at least stockpiles of chemical and biological weapons). They did not. Their Iraqi informants had systematically lied to them. \\nSocial and Behavioral Sciences to the Rescue? \\nThe various U.S. intelligence agencies were thoroughly shaken by this affair, and today, 13 years later, their directors and managers are still trying to sort it out – specifically, how to tell when they are getting “true” intelligence and when they are being lied to. Or, as one intelligence worker has put it, we need “ help to protect us against armies of snake oil salesmen. ” To that end the CIA et al. are in the market for academic assistance. Ahmed Chalabi, head of the Iraqi National Congress, a key supplier of Iraqi defectors with bogus stories of hidden WMD. \\nA “partnership” is being forged between the Office of the Director of National Intelligence (ODNI), which serves as the coordinating center for the sixteen independent U.S. intelligence agencies, and the National Academies of Sciences, Engineering and Medicine . The result of this collaboration will be a “ permanent Intelligence Community Studies Board” to coordinate programs in “social and behavioral science research [that] might strengthen national security .” \\nDespite this effort, it is almost certain that the “social and behavioral sciences” cannot give the spy agencies what they want – a way of detecting lies that is better than their present standard procedures of polygraph tests and interrogations. But even if they could, it might well make no difference, because the real problem is not to be found with the liars. It is to be found with the believers. \\nThe Believers \\nIt is simply not true, as the ODNI leaders seem to assert, that U.S. intelligence agency personnel cannot tell, more often than not, that they are being lied to. This is the case because there are thousands of middle-echelon intelligence workers, desk officers, and specialists who know something closely approaching the truth – that is, they know pretty well what is going on in places like Afghanistan, Iraq, Syria, Libya, Israel, Palestine and elsewhere. Director of National Intelligence James Clapper (right) talks with President Barack Obama in the Oval Office, with John Brennan and other national security aides present. (Photo credit: Office of Director of National Intelligence) \\nTherefore, if someone feeds them “snake oil,” they usually know it. However, having an accurate grasp of things is often to no avail because their superiors – those who got their appointments by accepting a pre-structured worldview – have different criterion for what is “true” than do the analysts. \\nListen to Charles Gaukel, of the National Intelligence Council – yet another organization that acts as a meeting ground for the 16 intelligence agencies. Referring to the search for a way to avoid getting taken in by lies, Gaukel has declared, “ We’re looking for truth. But we’re particularly looking for truth that works. ” Now what might that mean? \\nI can certainly tell you what it means historically. It means that for the power brokers, “truth” must match up, fit with, their worldview – their political and ideological precepts. If it does not fit, it does not “work.” So the intelligence specialists who send their usually accurate assessments up the line to the policy makers often hit a roadblock caused by “group think,” ideological blinkers, and a “we know better” attitude. \\nOn the other hand, as long as what you’re selling the leadership matches up with what they want to believe, you can peddle them anything: imaginary Iraqi nukes, Israel as a Western-style democracy, Saudi Arabia as an indispensable ally, Libya as a liberated country, Bashar al-Assad as the real roadblock to peace in Syria, the Strategic Defense Initiative (SDI) aka Star Wars, a world that is getting colder and not warmer, American exceptionalism in all its glory – the list is almost endless. \\nWhat does this sad tale tell us? If you want to spend millions of dollars on social and behavioral science research to improve the assessment and use of intelligence, forget about the liars. What you want to look for is an antidote to the narrow-mindedness of the believers – the policymakers who seem not to be able to rise above the ideological presumptions of their class – presumptions that underpin their self-confidence as they lead us all down slippery slopes. \\nIt has happened this way so often, and in so many places, that it is the source of Shakespeare’s determination that “what is past, is prelude.” Our elites play out our destinies as if they have no free will – no capacity to break with structured ways of seeing. Yet the middle-echelon specialists keep sending their relatively accurate assessments up the ladder of power. Hope springs eternal.'"
            ]
          },
          "metadata": {
            "tags": []
          },
          "execution_count": 11
        }
      ]
    },
    {
      "cell_type": "code",
      "metadata": {
        "id": "TEkzCa_yzHYl"
      },
      "source": [
        "from nltk.corpus import stopwords\n",
        "from nltk.stem.porter import PorterStemmer\n",
        "ps=PorterStemmer()\n",
        "corpus=[]\n",
        "for i in range (0, len(df)):\n",
        "    review=re.sub('[^a-zA-Z]', ' ', df['combine'][i])\n",
        "    review=review.lower()\n",
        "    review=review.split()\n",
        "    review=[ps.stem(word) for word in review if not word in stopwords.words('english')]\n",
        "    review=' '.join(review)\n",
        "    corpus.append(review)"
      ],
      "execution_count": 12,
      "outputs": []
    },
    {
      "cell_type": "code",
      "metadata": {
        "id": "_sJQ0wKpzH5d",
        "outputId": "6859bde6-d631-46a3-cb77-42247e9a97c7",
        "colab": {
          "base_uri": "https://localhost:8080/",
          "height": 183
        }
      },
      "source": [
        "corpus[25]"
      ],
      "execution_count": 13,
      "outputs": [
        {
          "output_type": "execute_result",
          "data": {
            "application/vnd.google.colaboratory.intrinsic+json": {
              "type": "string"
            },
            "text/plain": [
              "'hillari clinton becam hawk new york time hillari clinton sat hideaway studi ceremoni offic state depart sip tea take stock first year job studi like den cozi line bookshelv display memento clinton three decad public eye statu heroin eleanor roosevelt basebal sign chicago cub star erni bank carv wooden figur pregnant african woman intim set lent interview usual local impos outer offic marbl fireplac heavi drape crystal chandeli ornat wall sconc morn feb howev clinton talk someth sensit mere foreign affair relationship barack obama say chose word care justic delicaci exercis like technician decid color wire snip without blow relationship white hous develop think good rapport realli posit everyth imagin clinton said man describ campaign na irrespons hopelessli unprepar presid interest even unusu experi along way lean forward spoke gestur hand laugh easili talk report clinton display warmth obama though less expect might say someth reveal clinton singl often would unit nation meet copenhagen previou decemb obama work togeth save meet collaps brought middl east peac proc ess signatur project presid task reviv understand wari talk area obama split name bedrock issu war peac clinton activist philosophi alreadi collid unpredict way boss instinct toward restraint back gen stanley mcchrystal recommend send troop afghanistan endors fallback propos obama went along though stipul soldier would begin pull juli view problemat support pentagon plan leav behind residu forc american troop iraq obama balk larg inabl win legal protect iraqi failur haunt islam state overran much countri press unit state funnel arm rebel syria civil war idea obama initi rebuf later halfheartedli come around fundament tension clinton presid would continu defin featur tenur secretari state administr first meet russia februari aid obama propos unit state make symbol concess russia gestur good reset relationship clinton last speak brusqu reject idea say give anyth noth hardheaded made impress robert gate defens secretari georg w bush holdov wari chang russia decid someon could busi thought tough ladi told month interview offic anoth split emerg obama pick secur phone weekend confer call clinton gate hand advis juli four month north korean militari torpedo south korean navi corvett sink kill sailor week fierc debat pentagon state depart unit state gear respond brazen provoc tent plan develop clinton deputi state jame steinberg dispatch aircraft carrier georg washington coastal water east north korea unusu show forc adm robert willard pacif command want send carrier aggress cours yellow sea north korea china chines foreign ministri warn unit state move willard reason press forward push chairman joint chief staff mike mullen turn push boss defens secretari rerout georg washington gate agre need command chief sign decis could polit well militari repercuss gate laid case divert georg washington yellow sea unit state look yield china clinton strongli second got run gut said aid day earlier vinc lombardi imit drew giggl staff even month tenur still marvel pugnac obama though persuad georg washington alreadi underway chang cours decis make fli call audibl aircraft carrier said unwittingli clinton footbal metaphor last debat would side gate two quickli discov share midwestern upbring tast stiff drink long day work skeptic intent america foe bruce riedel former intellig analyst conduct obama initi review afghanistan war say think one surpris gate militari come expect administr discov secretari state littl bit right issu littl eager certain extent particularli afghanistan think gate knew done knew troop need sent lot doubt whether would work hillari clinton make anoth run presid tempt view rhetor world less deepli felt core principl calcul polit maneuv clinton instinct bred bone ground cold realism human natur one aid call textbook view american exception set apart barack obama avoid militari entangl tri reconcil american world unit state longer undisput hegemon like set apart republican candid meet gener elect bluster bomb islam state oblivion neither donald j trump senat ted cruz texa demonstr anywher near appetit militari engag abroad clinton hillari much member tradit american establish say vali nasr strategist advis pakistan afghanistan state depart believ like presid go back reagan kennedi year import militari solv terror assert american influenc shift obama went relianc militari intellig agenc posit need deal terror n c drone special op c gave obama angl simultan hawkish shun use militari unlik recent presid obama georg w bush husband bill clinton hillari clinton would assum offic long record nation secur mani way examin record one reveal explor cultiv militari civilian leader like gate also command men medal affin arm forc root lifelong belief calcul use militari power vital defend nation interest american intervent good harm writ unit state properli reach bush put dark corner world unexpectedli bombast presidenti elect hillari clinton last true hawk left race know clinton biographi embrac militari come surpris grew buoyant aftermath world war ii daughter navi petti offic train young sailor ship pacif father hugh rodham staunch republican anticommunist channel view talk often girlhood dream becom astronaut cite reject letter got nasa first time encount gender discrimin real motiv volunt written may father fret america lag behind russia polit convers came later vietnam swept wellesley colleg spoke establish graduat even tumultu year still make transit republican democrat manag go convent parti republican intern washington summer question wisconsin congressman melvin laird wisdom lyndon b johnson escal involv southeast asia law school curiou encount militari year marri bill clinton stop marin recruit offic arkansa inquir join activ forc reserv lawyer explain mayb way could serv recruit recal two decad later young man prime physic condit clinton freshli transplant washington teach law univers arkansa fayettevil wear eyeglass old see woman told mayb dog take ad said pejor refer armi encourag convers clinton said lunch militari women capitol hill decid mayb look anoth way serv countri report cast doubt verac stori repeat fall breakfast voter new hampshir certainli concret evid happen bill gave differ account substitut armi marin would profession mind yale law graduat cusp marriag suddenli want put uniform imposs deciph possibl motiv ann henri old friend taught univers clinton move littl rock offer theori day recal femal faculti member exercis would test boundari career appear close women think made say consist someth would done clinton next sustain exposur militari come first ladi almost two decad later live white hous mani way like live militari compound marin stand guard front west wing presid oval offic mili tari offic oper medic center telecommun system navi run cafeteria marin transport presid helicopt air forc plane camp david naval facil daili contact men women uniform clinton friend say deepen feel march first ladi visit american troop station bosnia trip becam notori year later claim campaign dodg sniper fire militari plane land american base tuzla chri hill diplomat onboard day later serv ambassador iraq clinton rememb sniper inde recal children hand bouquet spring flower fake good vibe tour mess rec hall teenag daughter side banter joke young servicemen women experi wrote left last impress chelsea clinton elect senat strong polit reason care mili tari pentagon midst long polit charg process close militari base new york state alreadi victim plattsburgh air forc base close loss civilian job north countri town new york deleg determin protect remain base especi fort drum home armi th mountain divis sprawl hundr thousand acr rural jefferson counti octob month terrorist attack clinton travel fort drum invit gen buster hagenbeck name divis command would deploy afghanistan month later like mani offic spoke preconcept clinton year first ladi woman show offic around happi hour afternoon fulfil sat recal took shoe put feet coffe tabl said gener know gal get cold beer around u start dialogu stretch two war spring hagenbeck led oper anaconda assault taliban al qaeda fighter valley largest combat engag war date gener came back washington brief joint chief staff clinton took dinner capitol hill brief also spoke bush administr prepar war iraq someth hagenbeck follow anxious gener turn dove senat warn risk invas insid pentagon would like kick bee nest said hagenbeck excus clinton vote author militari action iraq made consid call say chagrin much fact matter clinton vote record unstint public support militari whether protect fort drum back difficult first year afghanistan clinton educ militari affair began earnest democrat parti crush defeat midterm elect move sever rung senat senior parti congression leader offer seat either senat foreign relat committe senat arm servic committe chose arm servic spurn long tradit new york senat like daniel patrick moynihan jacob javit covet prestig foreign relat arm servic deal earthbound issu like benefit veteran long preserv republican hawk like john mccain clinton saw arm servic better prepar futur politician look hone credenti woman aspir command chief perfect train ground dug like grunt boot camp andrew shapiro senat clinton advis call upon expert includ bill perri defens secretari husband ashton carter would eventu becom presid obama fourth defens secretari tutor everyth grand strategi defens procur met quietli andrew marshal octogenarian strategist pentagon labor decad blandli name offic net assess earn nicknam yoda delphic insight went everi committe meet matter mundan aid recal sit alon chamber patient question lieuten colonel visit troop afghanistan thanksgiv day spoke everi signific militari instal new york state year recal reject marin recruit arkansa hillari clinton becom militari wonk jack kean one intellectu architect iraq surg also perhap greatest singl influenc way hillari clinton think militari issu bear man jowli careworn face hair kean exud suprem would expect retir gener speak trace new york accent give pronounc urgenc also member complex sit board gener dynam serv strateg advis academi contractor known blackwat chairman aptli name think tank institut studi war though one parad gener kean resid hawk fox news appear regularli call unit state use greater militari forc iraq syria afghanistan shrink put boot ground littl use civilian leader like obama kean first got know clinton fall freshman senat armi second command distinguish combat command record vietnam somalia haiti bosnia kosovo expect intellig polit astut prepar respect show armi institut sympathi sacrific made soldier famili kean confid could smell phoni politician mile away get whiff read peopl one strength told fool fool often clinton took instant like kean love irish gruff thing say one senat aid kri balderston room day kean got minut leav meet back pentagon polish gener protest finish yet ask anoth appoint said k took three month get one u kean told dryli clinton explod raucou laugh take care problem promis true word two would meet mani time next decad discuss war afghanistan iraq iranian nu clear threat flash point middl east sometim drop senat offic time met dinner drink escort first visit fort drum set first trip iraq gener agre forgo talk polit meet clinton senat offic januari kean tri sell logic troop surg iraq previou month met presid bush oval offic recommend unit state deploy five eight armi marin brigad wage urban counterinsurg campaign argu would stabil countri rip apart sectarian strife present anger kean fellow gener fear strategi would deepen iraq depend prolong america involv big impact command chief soon order addit troop iraq clinton anoth stori convinc go work jack told predict american soldier patrol iraqi citi town would blown sunni militia al qaeda fighter thought would fail kean recal go caus increas casualti polit cours also mind barack obama lay groundwork candidaci campaign would emphas opposit iraq war vote favor vote still shadow year democrat primari obama set drive would net million three month send tremor clinton polit camp establish formid rival although disagre kean iraq clinton ask becom formal advis much respect repli kean wife health problem move retir armi polici endors candid sometim rememb exactli clinton told er doubt wisdom surg said right realli work u kean recal issu nation secur say thought alway intellectu honest clinton continu talk even obama elect becam secretari state often found sync kean like clinton favor robust intervent syria obama april week announc candidaci clinton ask brief militari option deal fighter islam state bring along three young femal analyst institut studi war kean gave present among step advoc impos zone part syria would neutral air power syrian presid bashar goal forc polit settlement opposit group six month later clinton publicli adopt posit distanc obama convinc presid matter circumst never put boot ground anyth even compel kean told sit librari home mclean va line book militari histori strategi critiqu obama hardli new origin much mirror think clinton polici advis one problem presid weaken diplomat effort leader believ would use militari power issu would separ presid hillari clinton rather dramat would look militari forc anoth realist option option befriend kean cultiv singl advis gave clinton instant entre inform network retir gener interest far david petraeu cerebr command share clinton ambit whose life stori would mix headi success humbl setback would accus mishandl classifi inform clinton use privat server email address conduct sensit govern busi decis erupt polit scandal petraeu given diari contain classifi inform biograph mistress eventu charg misdemeanor mishandl classifi inform clinton first trip iraq novemb petraeu gener command st airborn divis flew field headquart mosul rel safeti kirkuk brief congression deleg full question recal kind gestur mean lot battlefield command subsequ trip rose rank petraeu walk plan train equip iraqi armi troop forerunn counterinsurg strategi afghanistan work mutual benefit petraeu build tie promin democrat voic senat clinton burnish imag friend troop way say pursu relationship petraeu sent back iraq top command earli gave everi member senat arm servic committe copi u corp counterinsurg field manual edit tour fort leavenworth clinton read cover cover although clinton reserv surg valid stabil addit troop brought iraq last opposit like vote war came back haunt time alli bob gate summon ghost memoir gate wrote confess presid posit polit motiv face obama iowa caucus obama wrote vagu conced oppos polit reason clinton push back tell dian sawyer abc news gate perhap either miss context mean oppos surg opposit told sawyer driven fact time peopl go accept escal war polit elector polit term clinton said polit sens american public support commit like next time found debat send troop harm way voic reserv need map hillari clinton told aid earli octob return meet situat room obama war cabinet debat mani addit troop send afghanistan unit state preoccupi iraq allow taliban regroup pentagon report use impress map show plan deploy troop around countri attent detail made gate command look crisp well prepar state depart push civilian surg accompani troop look wan comparison next meet oct team state unfurl map show deploy armi aid worker diplomat legal expert crop specialist suppos follow soldier afghanistan clinton fixat map typic first great debat obama presid want taken serious even depart less central pentagon one way promot civilian surg pet project friend special envoy region richard holbrook determin brief book would thick meticul pentagon senior advis recal also hesit get pentagon busi ask detail question train afghan troop wade weed militari plan resolv miss anyth determin may root deeper insecur role becom white administr modern era morn june email two aid say heard radio cabinet mtg go send feb dial white hous home get past switchboard oper believ realli hillari clinton ask provid offic number prove ident said know final clinton hung frustrat place call state depart oper center like proper properli depend secretari state later wrote one aid tone independ dial allow afghan troop debat drama duel ego leak document endless deliber typic frame test will pentagon wili militari command inexperienc young presid joe biden play role devil advoc obama portrait accur neglect role clinton side gate gener gave polit ballast propos provid bullish counterpoint biden skeptic role overst turn debat bring distinct point view unstint support gener mcchrystal maximalist recommend made harder obama choos lesser option mcchrystal later fire obama aid made derogatori remark almost everi member war cabinet roll stone magazin except hillari stan back one aid told report michael hast hillari adam support stan ask gate say made clear readi support request full troop made clear will go number propos way tougher number surg gate believ could align clinton chairman joint chief staff mike mullen command central command david petraeu behind common posit would hard obama say could ignor four horsemen nation secur say geoff morrel serv pentagon press secretari time clinton benefit allianc militari command gave polit cover dirti littl secret say tom nide former deputi secretari state manag resourc knew want side knew walk situat room made huge differ dynam open mouth could chang momentum room david axelrod recal one meet clinton kick thing pretti much articul opinion sure one rememb doubt want give everi troop mcchrystal ask still clinton prevail everi argument agre send troop obama ad condit soldier deploy quickli possibl pull start summer deadlin prove fate long run differ troop clinton oppos set public deadlin withdraw argu would tip america hand taliban encourag wait unit state fact exactli happen final day debat clinton also found odd ambassador kabul karl eikenberri held differ view wisdom surg put write nov long cabl address clinton later leak new york time made trenchant convinc case mcchrystal propos endors two week earlier meet obama would saddl unit state vastli increas cost indefinit militari role afghanistan much eikenberri analysi prove prescient particularli warn threadbar american partnership afghan presid hamid karzai carri extra sting retir armi gener command afghanistan clinton ask cabl furiou fear could upset debat pentagon prevail cabl made clear degre afghanistan debat domin militari consider clinton rais need deal afghanistan neighbor pakistan reflex support gate petraeu mcchrystal meant power voic diplomat altern contribut overmilitar analysi problem say sarah chay advis mcchrystal later chairman joint chief staff mike mullen octob persist violenc afghanistan legaci karzai misrul forc obama revers plan withdraw last american soldier end presi denci thousand troop stay indefinit clinton talk civilian surg never realli materi clinton afghanistan episod laid bare vex relationship eikenberri one gener hit graduat degre harvard stanford eikenberri brilliant reput among colleagu imperi clinton similarli chilli relationship dougla lute anoth armi lieuten gener graduat degre harvard also fought holbrook like mcchrystal petraeu kean one aid observ real militari guy retir go civilian job doubt hillari clinton muscular brand american foreign polici better match said jake sullivan top polici advis state depart play role campaign de cem ber day iowa caucus sullivan sit clinton sprawl brooklyn headquart explain shape messag campaign suddenli domin concern nation secur clinton strategi said twofold explain voter clear plan confront threat pose islam terror expos republican oppon utterli lack experi credibl nation secur good reason clinton let inner hawk fli attack pari san bernardino calif american concern major attack nation spike poll taken pari show major percent favor send ground troop iraq syria remark shift sentiment prevail obama presid republican candid reach apocalypt metaphor demonstr resolv ted cruz threaten islam state test whether desert sand glow donald trump call unit state ban muslim enter countri abl determin understand problem danger threat pose yet spike public appetit mili tari action tend transitori three week later poll show even split percent whether deploy troop neither trump cruz favor major new deploy american soldier iraq syria matter clinton anyth skeptic clinton intervent circumspect maintain nation war ii militari commit trump loudli proclaim opposit iraq war want unit state spend less underwrit nato talk withdraw american secur umbrella asia even mean japan south korea would acquir nuclear weapon defend cruz unlik clinton oppos aid syrian rebel support pentagon budget constraint advoc isolationist colleagu senat rand paul kentucki thu might gen eral elect present voter unfamiliar choic democrat hawk versu republican reluct warrior thwart progress insurg senat berni sander vermont clinton care calibr messag democrat primari align close barack obama racial divers coalit pivot gener elect balanc act obama becom trickier go huge amount interest press sullivan say easili becom sport distract abil make affirm case show stripe prospect command chief clinton doubt draw heavili upon state depart experi filter lesson learn libya syria iraq sinewi worldview held sinc childhood last fall seri polici speech clinton began limn distinct presid nation secur said unit state consid send troop iraq obama commit help iraqi kurd fight islam state came favor partial zone syria describ threat pose isi american starker term often case clinton obama differ less direct degre call ground troop middl east clinton insist plan break mere intensif acceler open question well clinton hawkish instinct match countri mood american weari war remain suspici foreign entangl yet retrench obama year poll evid equal dissatisfi portrait countri spent forc manag declin amid world rise power like china resurg empir like vladimir putin russia lethal new forc like islam state obama minimalist approach necessari reaction maximalist style predecessor perhap american yearn someth kind pragmat clinton spent lifetim hone presid made tough decis say leon panetta serv obama defens secretari bob gate director c david petraeu mix record concern presid defin america role world st centuri happen hope ad acknowledg time obama left certainli would'"
            ]
          },
          "metadata": {
            "tags": []
          },
          "execution_count": 13
        }
      ]
    },
    {
      "cell_type": "code",
      "metadata": {
        "id": "ReDxtbrDzIeY"
      },
      "source": [
        "from sklearn.feature_extraction.text import CountVectorizer\n",
        "cv=CountVectorizer(max_features=5000, ngram_range=(1,3))\n",
        "x=cv.fit_transform(corpus).toarray()"
      ],
      "execution_count": 14,
      "outputs": []
    },
    {
      "cell_type": "code",
      "metadata": {
        "id": "xnhW2Ay9zJB_",
        "outputId": "81e4d34c-0cc4-41ff-e4b5-a8bd8bd38442",
        "colab": {
          "base_uri": "https://localhost:8080/",
          "height": 127
        }
      },
      "source": [
        "y=df.label\n",
        "y.head()"
      ],
      "execution_count": 15,
      "outputs": [
        {
          "output_type": "execute_result",
          "data": {
            "text/plain": [
              "0    1\n",
              "1    0\n",
              "2    1\n",
              "3    1\n",
              "4    1\n",
              "Name: label, dtype: int64"
            ]
          },
          "metadata": {
            "tags": []
          },
          "execution_count": 15
        }
      ]
    },
    {
      "cell_type": "code",
      "metadata": {
        "id": "-XeslEfczJll"
      },
      "source": [
        "from sklearn.model_selection import train_test_split\n",
        "x_train, x_test, y_train, y_test = train_test_split(x, y, test_size=0.2, random_state=0)"
      ],
      "execution_count": 16,
      "outputs": []
    },
    {
      "cell_type": "code",
      "metadata": {
        "id": "X2BpWTJ920I0"
      },
      "source": [
        "from sklearn.linear_model import PassiveAggressiveClassifier\n",
        "clf=PassiveAggressiveClassifier()\n",
        "clf.fit(x_train, y_train)\n",
        "y_pred=clf.predict(x_test)"
      ],
      "execution_count": 17,
      "outputs": []
    },
    {
      "cell_type": "code",
      "metadata": {
        "id": "vQjJX7I-20xx",
        "outputId": "073046e5-471d-458a-ee33-027b57478fb7",
        "colab": {
          "base_uri": "https://localhost:8080/",
          "height": 237
        }
      },
      "source": [
        "from sklearn.metrics import confusion_matrix, classification_report, accuracy_score\n",
        "print(confusion_matrix(y_test, y_pred))\n",
        "print(classification_report(y_test, y_pred))\n",
        "print('accuracy_score: ', accuracy_score(y_test, y_pred))"
      ],
      "execution_count": 18,
      "outputs": [
        {
          "output_type": "stream",
          "text": [
            "[[1953   87]\n",
            " [  82 1535]]\n",
            "              precision    recall  f1-score   support\n",
            "\n",
            "           0       0.96      0.96      0.96      2040\n",
            "           1       0.95      0.95      0.95      1617\n",
            "\n",
            "    accuracy                           0.95      3657\n",
            "   macro avg       0.95      0.95      0.95      3657\n",
            "weighted avg       0.95      0.95      0.95      3657\n",
            "\n",
            "accuracy_score:  0.9537872573147389\n"
          ],
          "name": "stdout"
        }
      ]
    },
    {
      "cell_type": "code",
      "metadata": {
        "id": "fAyWIc-h21dr"
      },
      "source": [
        ""
      ],
      "execution_count": null,
      "outputs": []
    }
  ]
}