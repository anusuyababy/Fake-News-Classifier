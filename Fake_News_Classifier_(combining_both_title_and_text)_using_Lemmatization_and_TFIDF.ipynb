{
  "nbformat": 4,
  "nbformat_minor": 0,
  "metadata": {
    "colab": {
      "name": "Fake_News_Classifier_(combining both title and text) using_Lemmatization_and_TFIDF.ipynb",
      "provenance": [],
      "collapsed_sections": []
    },
    "kernelspec": {
      "name": "python3",
      "display_name": "Python 3"
    }
  },
  "cells": [
    {
      "cell_type": "code",
      "metadata": {
        "id": "XfTk8QmQLSx8",
        "outputId": "f842d912-8583-4f29-a861-9d762b759776",
        "colab": {
          "base_uri": "https://localhost:8080/",
          "height": 90
        }
      },
      "source": [
        "import numpy as np\n",
        "import pandas as pd\n",
        "import nltk\n",
        "nltk.download('stopwords')\n",
        "nltk.download('wordnet')\n",
        "import re"
      ],
      "execution_count": 1,
      "outputs": [
        {
          "output_type": "stream",
          "text": [
            "[nltk_data] Downloading package stopwords to /root/nltk_data...\n",
            "[nltk_data]   Unzipping corpora/stopwords.zip.\n",
            "[nltk_data] Downloading package wordnet to /root/nltk_data...\n",
            "[nltk_data]   Unzipping corpora/wordnet.zip.\n"
          ],
          "name": "stdout"
        }
      ]
    },
    {
      "cell_type": "code",
      "metadata": {
        "id": "WNDkCwuJ-Az7",
        "outputId": "4ad189fe-c674-44e6-8e31-935d0fd998ea",
        "colab": {
          "base_uri": "https://localhost:8080/",
          "height": 224
        }
      },
      "source": [
        "df=pd.read_csv('/content/train.csv')\n",
        "df.head()"
      ],
      "execution_count": 2,
      "outputs": [
        {
          "output_type": "execute_result",
          "data": {
            "text/html": [
              "<div>\n",
              "<style scoped>\n",
              "    .dataframe tbody tr th:only-of-type {\n",
              "        vertical-align: middle;\n",
              "    }\n",
              "\n",
              "    .dataframe tbody tr th {\n",
              "        vertical-align: top;\n",
              "    }\n",
              "\n",
              "    .dataframe thead th {\n",
              "        text-align: right;\n",
              "    }\n",
              "</style>\n",
              "<table border=\"1\" class=\"dataframe\">\n",
              "  <thead>\n",
              "    <tr style=\"text-align: right;\">\n",
              "      <th></th>\n",
              "      <th>id</th>\n",
              "      <th>title</th>\n",
              "      <th>author</th>\n",
              "      <th>text</th>\n",
              "      <th>label</th>\n",
              "    </tr>\n",
              "  </thead>\n",
              "  <tbody>\n",
              "    <tr>\n",
              "      <th>0</th>\n",
              "      <td>0</td>\n",
              "      <td>House Dem Aide: We Didn’t Even See Comey’s Let...</td>\n",
              "      <td>Darrell Lucus</td>\n",
              "      <td>House Dem Aide: We Didn’t Even See Comey’s Let...</td>\n",
              "      <td>1</td>\n",
              "    </tr>\n",
              "    <tr>\n",
              "      <th>1</th>\n",
              "      <td>1</td>\n",
              "      <td>FLYNN: Hillary Clinton, Big Woman on Campus - ...</td>\n",
              "      <td>Daniel J. Flynn</td>\n",
              "      <td>Ever get the feeling your life circles the rou...</td>\n",
              "      <td>0</td>\n",
              "    </tr>\n",
              "    <tr>\n",
              "      <th>2</th>\n",
              "      <td>2</td>\n",
              "      <td>Why the Truth Might Get You Fired</td>\n",
              "      <td>Consortiumnews.com</td>\n",
              "      <td>Why the Truth Might Get You Fired October 29, ...</td>\n",
              "      <td>1</td>\n",
              "    </tr>\n",
              "    <tr>\n",
              "      <th>3</th>\n",
              "      <td>3</td>\n",
              "      <td>15 Civilians Killed In Single US Airstrike Hav...</td>\n",
              "      <td>Jessica Purkiss</td>\n",
              "      <td>Videos 15 Civilians Killed In Single US Airstr...</td>\n",
              "      <td>1</td>\n",
              "    </tr>\n",
              "    <tr>\n",
              "      <th>4</th>\n",
              "      <td>4</td>\n",
              "      <td>Iranian woman jailed for fictional unpublished...</td>\n",
              "      <td>Howard Portnoy</td>\n",
              "      <td>Print \\nAn Iranian woman has been sentenced to...</td>\n",
              "      <td>1</td>\n",
              "    </tr>\n",
              "  </tbody>\n",
              "</table>\n",
              "</div>"
            ],
            "text/plain": [
              "   id  ... label\n",
              "0   0  ...     1\n",
              "1   1  ...     0\n",
              "2   2  ...     1\n",
              "3   3  ...     1\n",
              "4   4  ...     1\n",
              "\n",
              "[5 rows x 5 columns]"
            ]
          },
          "metadata": {
            "tags": []
          },
          "execution_count": 2
        }
      ]
    },
    {
      "cell_type": "code",
      "metadata": {
        "id": "vHgvQUuR-mWA",
        "outputId": "17c8c344-994e-46c0-a5d5-f7e63314d48c",
        "colab": {
          "base_uri": "https://localhost:8080/",
          "height": 35
        }
      },
      "source": [
        "df.shape"
      ],
      "execution_count": 3,
      "outputs": [
        {
          "output_type": "execute_result",
          "data": {
            "text/plain": [
              "(20800, 5)"
            ]
          },
          "metadata": {
            "tags": []
          },
          "execution_count": 3
        }
      ]
    },
    {
      "cell_type": "code",
      "metadata": {
        "id": "6UR5xX_6-kN3",
        "outputId": "b47574a0-686a-423f-e396-03d47db9a244",
        "colab": {
          "base_uri": "https://localhost:8080/",
          "height": 127
        }
      },
      "source": [
        "df.isnull().sum()"
      ],
      "execution_count": 4,
      "outputs": [
        {
          "output_type": "execute_result",
          "data": {
            "text/plain": [
              "id           0\n",
              "title      558\n",
              "author    1957\n",
              "text        39\n",
              "label        0\n",
              "dtype: int64"
            ]
          },
          "metadata": {
            "tags": []
          },
          "execution_count": 4
        }
      ]
    },
    {
      "cell_type": "code",
      "metadata": {
        "id": "LvWa9_eI-k9r",
        "outputId": "8fe10952-461b-4936-db85-cdb70740f676",
        "colab": {
          "base_uri": "https://localhost:8080/",
          "height": 35
        }
      },
      "source": [
        "df=df.dropna()\n",
        "df.shape"
      ],
      "execution_count": 5,
      "outputs": [
        {
          "output_type": "execute_result",
          "data": {
            "text/plain": [
              "(18285, 5)"
            ]
          },
          "metadata": {
            "tags": []
          },
          "execution_count": 5
        }
      ]
    },
    {
      "cell_type": "code",
      "metadata": {
        "id": "otVWSBEg-loy"
      },
      "source": [
        "df.reset_index(inplace=True)"
      ],
      "execution_count": 6,
      "outputs": []
    },
    {
      "cell_type": "code",
      "metadata": {
        "id": "azTkN8rJ-xI8",
        "outputId": "d7125295-c40b-4c4a-f964-fc8037aee6a5",
        "colab": {
          "base_uri": "https://localhost:8080/",
          "height": 537
        }
      },
      "source": [
        "df.head(10)"
      ],
      "execution_count": 7,
      "outputs": [
        {
          "output_type": "execute_result",
          "data": {
            "text/html": [
              "<div>\n",
              "<style scoped>\n",
              "    .dataframe tbody tr th:only-of-type {\n",
              "        vertical-align: middle;\n",
              "    }\n",
              "\n",
              "    .dataframe tbody tr th {\n",
              "        vertical-align: top;\n",
              "    }\n",
              "\n",
              "    .dataframe thead th {\n",
              "        text-align: right;\n",
              "    }\n",
              "</style>\n",
              "<table border=\"1\" class=\"dataframe\">\n",
              "  <thead>\n",
              "    <tr style=\"text-align: right;\">\n",
              "      <th></th>\n",
              "      <th>index</th>\n",
              "      <th>id</th>\n",
              "      <th>title</th>\n",
              "      <th>author</th>\n",
              "      <th>text</th>\n",
              "      <th>label</th>\n",
              "    </tr>\n",
              "  </thead>\n",
              "  <tbody>\n",
              "    <tr>\n",
              "      <th>0</th>\n",
              "      <td>0</td>\n",
              "      <td>0</td>\n",
              "      <td>House Dem Aide: We Didn’t Even See Comey’s Let...</td>\n",
              "      <td>Darrell Lucus</td>\n",
              "      <td>House Dem Aide: We Didn’t Even See Comey’s Let...</td>\n",
              "      <td>1</td>\n",
              "    </tr>\n",
              "    <tr>\n",
              "      <th>1</th>\n",
              "      <td>1</td>\n",
              "      <td>1</td>\n",
              "      <td>FLYNN: Hillary Clinton, Big Woman on Campus - ...</td>\n",
              "      <td>Daniel J. Flynn</td>\n",
              "      <td>Ever get the feeling your life circles the rou...</td>\n",
              "      <td>0</td>\n",
              "    </tr>\n",
              "    <tr>\n",
              "      <th>2</th>\n",
              "      <td>2</td>\n",
              "      <td>2</td>\n",
              "      <td>Why the Truth Might Get You Fired</td>\n",
              "      <td>Consortiumnews.com</td>\n",
              "      <td>Why the Truth Might Get You Fired October 29, ...</td>\n",
              "      <td>1</td>\n",
              "    </tr>\n",
              "    <tr>\n",
              "      <th>3</th>\n",
              "      <td>3</td>\n",
              "      <td>3</td>\n",
              "      <td>15 Civilians Killed In Single US Airstrike Hav...</td>\n",
              "      <td>Jessica Purkiss</td>\n",
              "      <td>Videos 15 Civilians Killed In Single US Airstr...</td>\n",
              "      <td>1</td>\n",
              "    </tr>\n",
              "    <tr>\n",
              "      <th>4</th>\n",
              "      <td>4</td>\n",
              "      <td>4</td>\n",
              "      <td>Iranian woman jailed for fictional unpublished...</td>\n",
              "      <td>Howard Portnoy</td>\n",
              "      <td>Print \\nAn Iranian woman has been sentenced to...</td>\n",
              "      <td>1</td>\n",
              "    </tr>\n",
              "    <tr>\n",
              "      <th>5</th>\n",
              "      <td>5</td>\n",
              "      <td>5</td>\n",
              "      <td>Jackie Mason: Hollywood Would Love Trump if He...</td>\n",
              "      <td>Daniel Nussbaum</td>\n",
              "      <td>In these trying times, Jackie Mason is the Voi...</td>\n",
              "      <td>0</td>\n",
              "    </tr>\n",
              "    <tr>\n",
              "      <th>6</th>\n",
              "      <td>7</td>\n",
              "      <td>7</td>\n",
              "      <td>Benoît Hamon Wins French Socialist Party’s Pre...</td>\n",
              "      <td>Alissa J. Rubin</td>\n",
              "      <td>PARIS  —   France chose an idealistic, traditi...</td>\n",
              "      <td>0</td>\n",
              "    </tr>\n",
              "    <tr>\n",
              "      <th>7</th>\n",
              "      <td>9</td>\n",
              "      <td>9</td>\n",
              "      <td>A Back-Channel Plan for Ukraine and Russia, Co...</td>\n",
              "      <td>Megan Twohey and Scott Shane</td>\n",
              "      <td>A week before Michael T. Flynn resigned as nat...</td>\n",
              "      <td>0</td>\n",
              "    </tr>\n",
              "    <tr>\n",
              "      <th>8</th>\n",
              "      <td>10</td>\n",
              "      <td>10</td>\n",
              "      <td>Obama’s Organizing for Action Partners with So...</td>\n",
              "      <td>Aaron Klein</td>\n",
              "      <td>Organizing for Action, the activist group that...</td>\n",
              "      <td>0</td>\n",
              "    </tr>\n",
              "    <tr>\n",
              "      <th>9</th>\n",
              "      <td>11</td>\n",
              "      <td>11</td>\n",
              "      <td>BBC Comedy Sketch \"Real Housewives of ISIS\" Ca...</td>\n",
              "      <td>Chris Tomlinson</td>\n",
              "      <td>The BBC produced spoof on the “Real Housewives...</td>\n",
              "      <td>0</td>\n",
              "    </tr>\n",
              "  </tbody>\n",
              "</table>\n",
              "</div>"
            ],
            "text/plain": [
              "   index  id  ...                                               text label\n",
              "0      0   0  ...  House Dem Aide: We Didn’t Even See Comey’s Let...     1\n",
              "1      1   1  ...  Ever get the feeling your life circles the rou...     0\n",
              "2      2   2  ...  Why the Truth Might Get You Fired October 29, ...     1\n",
              "3      3   3  ...  Videos 15 Civilians Killed In Single US Airstr...     1\n",
              "4      4   4  ...  Print \\nAn Iranian woman has been sentenced to...     1\n",
              "5      5   5  ...  In these trying times, Jackie Mason is the Voi...     0\n",
              "6      7   7  ...  PARIS  —   France chose an idealistic, traditi...     0\n",
              "7      9   9  ...  A week before Michael T. Flynn resigned as nat...     0\n",
              "8     10  10  ...  Organizing for Action, the activist group that...     0\n",
              "9     11  11  ...  The BBC produced spoof on the “Real Housewives...     0\n",
              "\n",
              "[10 rows x 6 columns]"
            ]
          },
          "metadata": {
            "tags": []
          },
          "execution_count": 7
        }
      ]
    },
    {
      "cell_type": "code",
      "metadata": {
        "id": "NZTEXZXFcCdI",
        "outputId": "b11ab17d-75d9-4070-fcf6-7143b6610b8b",
        "colab": {
          "base_uri": "https://localhost:8080/",
          "height": 293
        }
      },
      "source": [
        "df['combine']= df['title'] +' '+ df['text']\n",
        "df.head()"
      ],
      "execution_count": 16,
      "outputs": [
        {
          "output_type": "execute_result",
          "data": {
            "text/html": [
              "<div>\n",
              "<style scoped>\n",
              "    .dataframe tbody tr th:only-of-type {\n",
              "        vertical-align: middle;\n",
              "    }\n",
              "\n",
              "    .dataframe tbody tr th {\n",
              "        vertical-align: top;\n",
              "    }\n",
              "\n",
              "    .dataframe thead th {\n",
              "        text-align: right;\n",
              "    }\n",
              "</style>\n",
              "<table border=\"1\" class=\"dataframe\">\n",
              "  <thead>\n",
              "    <tr style=\"text-align: right;\">\n",
              "      <th></th>\n",
              "      <th>index</th>\n",
              "      <th>id</th>\n",
              "      <th>title</th>\n",
              "      <th>author</th>\n",
              "      <th>text</th>\n",
              "      <th>label</th>\n",
              "      <th>combine</th>\n",
              "    </tr>\n",
              "  </thead>\n",
              "  <tbody>\n",
              "    <tr>\n",
              "      <th>0</th>\n",
              "      <td>0</td>\n",
              "      <td>0</td>\n",
              "      <td>House Dem Aide: We Didn’t Even See Comey’s Let...</td>\n",
              "      <td>Darrell Lucus</td>\n",
              "      <td>House Dem Aide: We Didn’t Even See Comey’s Let...</td>\n",
              "      <td>1</td>\n",
              "      <td>House Dem Aide: We Didn’t Even See Comey’s Let...</td>\n",
              "    </tr>\n",
              "    <tr>\n",
              "      <th>1</th>\n",
              "      <td>1</td>\n",
              "      <td>1</td>\n",
              "      <td>FLYNN: Hillary Clinton, Big Woman on Campus - ...</td>\n",
              "      <td>Daniel J. Flynn</td>\n",
              "      <td>Ever get the feeling your life circles the rou...</td>\n",
              "      <td>0</td>\n",
              "      <td>FLYNN: Hillary Clinton, Big Woman on Campus - ...</td>\n",
              "    </tr>\n",
              "    <tr>\n",
              "      <th>2</th>\n",
              "      <td>2</td>\n",
              "      <td>2</td>\n",
              "      <td>Why the Truth Might Get You Fired</td>\n",
              "      <td>Consortiumnews.com</td>\n",
              "      <td>Why the Truth Might Get You Fired October 29, ...</td>\n",
              "      <td>1</td>\n",
              "      <td>Why the Truth Might Get You Fired Why the Trut...</td>\n",
              "    </tr>\n",
              "    <tr>\n",
              "      <th>3</th>\n",
              "      <td>3</td>\n",
              "      <td>3</td>\n",
              "      <td>15 Civilians Killed In Single US Airstrike Hav...</td>\n",
              "      <td>Jessica Purkiss</td>\n",
              "      <td>Videos 15 Civilians Killed In Single US Airstr...</td>\n",
              "      <td>1</td>\n",
              "      <td>15 Civilians Killed In Single US Airstrike Hav...</td>\n",
              "    </tr>\n",
              "    <tr>\n",
              "      <th>4</th>\n",
              "      <td>4</td>\n",
              "      <td>4</td>\n",
              "      <td>Iranian woman jailed for fictional unpublished...</td>\n",
              "      <td>Howard Portnoy</td>\n",
              "      <td>Print \\nAn Iranian woman has been sentenced to...</td>\n",
              "      <td>1</td>\n",
              "      <td>Iranian woman jailed for fictional unpublished...</td>\n",
              "    </tr>\n",
              "  </tbody>\n",
              "</table>\n",
              "</div>"
            ],
            "text/plain": [
              "   index  id  ... label                                            combine\n",
              "0      0   0  ...     1  House Dem Aide: We Didn’t Even See Comey’s Let...\n",
              "1      1   1  ...     0  FLYNN: Hillary Clinton, Big Woman on Campus - ...\n",
              "2      2   2  ...     1  Why the Truth Might Get You Fired Why the Trut...\n",
              "3      3   3  ...     1  15 Civilians Killed In Single US Airstrike Hav...\n",
              "4      4   4  ...     1  Iranian woman jailed for fictional unpublished...\n",
              "\n",
              "[5 rows x 7 columns]"
            ]
          },
          "metadata": {
            "tags": []
          },
          "execution_count": 16
        }
      ]
    },
    {
      "cell_type": "code",
      "metadata": {
        "id": "dY_wtGYdfDko",
        "outputId": "a7142223-f594-4c10-8453-93fd9dc8d42d",
        "colab": {
          "base_uri": "https://localhost:8080/",
          "height": 183
        }
      },
      "source": [
        "df['combine'][2]"
      ],
      "execution_count": 17,
      "outputs": [
        {
          "output_type": "execute_result",
          "data": {
            "application/vnd.google.colaboratory.intrinsic+json": {
              "type": "string"
            },
            "text/plain": [
              "'Why the Truth Might Get You Fired Why the Truth Might Get You Fired October 29, 2016 \\nThe tension between intelligence analysts and political policymakers has always been between honest assessments and desired results, with the latter often overwhelming the former, as in the Iraq War, writes Lawrence Davidson. \\nBy Lawrence Davidson \\nFor those who might wonder why foreign policy makers repeatedly make bad choices, some insight might be drawn from the following analysis. The action here plays out in the United States, but the lessons are probably universal. \\nBack in the early spring of 2003, George W. Bush initiated the invasion of Iraq. One of his key public reasons for doing so was the claim that the country’s dictator, Saddam Hussein, was on the verge of developing nuclear weapons and was hiding other weapons of mass destruction. The real reason went beyond that charge and included a long-range plan for “regime change” in the Middle East. President George W. Bush and Vice President Dick Cheney receive an Oval Office briefing from CIA Director George Tenet. Also present is Chief of Staff Andy Card (on right). (White House photo) \\nFor our purposes, we will concentrate on the belief that Iraq was about to become a hostile nuclear power. Why did President Bush and his close associates accept this scenario so readily? \\nThe short answer is Bush wanted, indeed needed, to believe it as a rationale for invading Iraq. At first he had tried to connect Saddam Hussein to the 9/11 attacks on the U.S. Though he never gave up on that stratagem, the lack of evidence made it difficult to rally an American people, already fixated on Afghanistan, to support a war against Baghdad. \\nBut the nuclear weapons gambit proved more fruitful, not because there was any hard evidence for the charge, but because supposedly reliable witnesses, in the persons of exiled anti-Saddam Iraqis (many on the U.S. government’s payroll ), kept telling Bush and his advisers that the nuclear story was true. \\nWhat we had was a U.S. leadership cadre whose worldview literally demanded a mortally dangerous Iraq, and informants who, in order to precipitate the overthrow of Saddam, were willing to tell the tale of pending atomic weapons. The strong desire to believe the tale of a nuclear Iraq lowered the threshold for proof . Likewise, the repeated assertions by assumed dependable Iraqi sources underpinned a nationwide U.S. campaign generating both fear and war fever. \\nSo the U.S. and its allies insisted that the United Nations send in weapons inspectors to scour Iraq for evidence of a nuclear weapons program (as well as chemical and biological weapons). That the inspectors could find no convincing evidence only frustrated the Bush administration and soon forced its hand. \\nOn March 19, 2003, Bush launched the invasion of Iraq with the expectation was that, once in occupation of the country, U.S. inspectors would surely find evidence of those nukes (or at least stockpiles of chemical and biological weapons). They did not. Their Iraqi informants had systematically lied to them. \\nSocial and Behavioral Sciences to the Rescue? \\nThe various U.S. intelligence agencies were thoroughly shaken by this affair, and today, 13 years later, their directors and managers are still trying to sort it out – specifically, how to tell when they are getting “true” intelligence and when they are being lied to. Or, as one intelligence worker has put it, we need “ help to protect us against armies of snake oil salesmen. ” To that end the CIA et al. are in the market for academic assistance. Ahmed Chalabi, head of the Iraqi National Congress, a key supplier of Iraqi defectors with bogus stories of hidden WMD. \\nA “partnership” is being forged between the Office of the Director of National Intelligence (ODNI), which serves as the coordinating center for the sixteen independent U.S. intelligence agencies, and the National Academies of Sciences, Engineering and Medicine . The result of this collaboration will be a “ permanent Intelligence Community Studies Board” to coordinate programs in “social and behavioral science research [that] might strengthen national security .” \\nDespite this effort, it is almost certain that the “social and behavioral sciences” cannot give the spy agencies what they want – a way of detecting lies that is better than their present standard procedures of polygraph tests and interrogations. But even if they could, it might well make no difference, because the real problem is not to be found with the liars. It is to be found with the believers. \\nThe Believers \\nIt is simply not true, as the ODNI leaders seem to assert, that U.S. intelligence agency personnel cannot tell, more often than not, that they are being lied to. This is the case because there are thousands of middle-echelon intelligence workers, desk officers, and specialists who know something closely approaching the truth – that is, they know pretty well what is going on in places like Afghanistan, Iraq, Syria, Libya, Israel, Palestine and elsewhere. Director of National Intelligence James Clapper (right) talks with President Barack Obama in the Oval Office, with John Brennan and other national security aides present. (Photo credit: Office of Director of National Intelligence) \\nTherefore, if someone feeds them “snake oil,” they usually know it. However, having an accurate grasp of things is often to no avail because their superiors – those who got their appointments by accepting a pre-structured worldview – have different criterion for what is “true” than do the analysts. \\nListen to Charles Gaukel, of the National Intelligence Council – yet another organization that acts as a meeting ground for the 16 intelligence agencies. Referring to the search for a way to avoid getting taken in by lies, Gaukel has declared, “ We’re looking for truth. But we’re particularly looking for truth that works. ” Now what might that mean? \\nI can certainly tell you what it means historically. It means that for the power brokers, “truth” must match up, fit with, their worldview – their political and ideological precepts. If it does not fit, it does not “work.” So the intelligence specialists who send their usually accurate assessments up the line to the policy makers often hit a roadblock caused by “group think,” ideological blinkers, and a “we know better” attitude. \\nOn the other hand, as long as what you’re selling the leadership matches up with what they want to believe, you can peddle them anything: imaginary Iraqi nukes, Israel as a Western-style democracy, Saudi Arabia as an indispensable ally, Libya as a liberated country, Bashar al-Assad as the real roadblock to peace in Syria, the Strategic Defense Initiative (SDI) aka Star Wars, a world that is getting colder and not warmer, American exceptionalism in all its glory – the list is almost endless. \\nWhat does this sad tale tell us? If you want to spend millions of dollars on social and behavioral science research to improve the assessment and use of intelligence, forget about the liars. What you want to look for is an antidote to the narrow-mindedness of the believers – the policymakers who seem not to be able to rise above the ideological presumptions of their class – presumptions that underpin their self-confidence as they lead us all down slippery slopes. \\nIt has happened this way so often, and in so many places, that it is the source of Shakespeare’s determination that “what is past, is prelude.” Our elites play out our destinies as if they have no free will – no capacity to break with structured ways of seeing. Yet the middle-echelon specialists keep sending their relatively accurate assessments up the ladder of power. Hope springs eternal.'"
            ]
          },
          "metadata": {
            "tags": []
          },
          "execution_count": 17
        }
      ]
    },
    {
      "cell_type": "code",
      "metadata": {
        "id": "7a9aMffU-yIy"
      },
      "source": [
        "from nltk.corpus import stopwords\n",
        "from nltk.stem import WordNetLemmatizer\n",
        "wnl=WordNetLemmatizer()\n",
        "corpus=[]\n",
        "for i in range (0, len(df)):\n",
        "    review=re.sub('[^a-zA-Z]', ' ', df['combine'][i])\n",
        "    review=review.lower()\n",
        "    review=review.split()\n",
        "    review=[wnl.lemmatize(word) for word in review if not word in stopwords.words('english')]\n",
        "    review=' '.join(review)\n",
        "    corpus.append(review)"
      ],
      "execution_count": 18,
      "outputs": []
    },
    {
      "cell_type": "code",
      "metadata": {
        "id": "9HA6OMdS-zFQ",
        "outputId": "76686adb-7eb3-4d55-e374-d437217c994a",
        "colab": {
          "base_uri": "https://localhost:8080/",
          "height": 183
        }
      },
      "source": [
        "corpus[25]"
      ],
      "execution_count": 19,
      "outputs": [
        {
          "output_type": "execute_result",
          "data": {
            "application/vnd.google.colaboratory.intrinsic+json": {
              "type": "string"
            },
            "text/plain": [
              "'hillary clinton became hawk new york time hillary clinton sat hideaway study ceremonial office state department sipping tea taking stock first year job study like den cozy lined bookshelf displayed memento clinton three decade public eye statue heroine eleanor roosevelt baseball signed chicago cub star ernie bank carved wooden figure pregnant african woman intimate setting lent interview usual locale imposing outer office marble fireplace heavy drape crystal chandelier ornate wall sconce morning feb however clinton talking something sensitive mere foreign affair relationship barack obama say chose word carefully justice delicacy exercise like technician deciding color wire snip without blowing relationship white house developed think good rapport really positive everything imagine clinton said man described campaign na irresponsible hopelessly unprepared president interesting even unusual experience along way leaned forward spoke gesturing hand laughing easily talking reporter clinton display warmth obama though le expectation might say something revealing clinton singled often would united nation meeting copenhagen previous december obama worked together save meeting collapse brought middle east peace proc es signature project president tasked reviving understandably wary talking area obama split namely bedrock issue war peace clinton activist philosophy already collided unpredictable way bos instinct toward restraint backed gen stanley mcchrystal recommendation send troop afghanistan endorsing fallback proposal obama went along though stipulated soldier would begin pull july viewed problematic supported pentagon plan leave behind residual force american troop iraq obama balked largely inability win legal protection iraqi failure haunt islamic state overran much country pressed united state funnel arm rebel syria civil war idea obama initially rebuffed later halfheartedly coming around fundamental tension clinton president would continue defining feature tenure secretary state administration first meeting russia february aide obama proposed united state make symbolic concession russia gesture good resetting relationship clinton last speak brusquely rejected idea saying giving anything nothing hardheadedness made impression robert gate defense secretary george w bush holdover wary changed russia decided someone could business thought tough lady told month interview office another split emerged obama picked secure phone weekend conference call clinton gate handful adviser july four month north korean military torpedoed south korean navy corvette sinking killing sailor week fierce debate pentagon state department united state gearing respond brazen provocation tentative plan developed clinton deputy state james steinberg dispatch aircraft carrier george washington coastal water east north korea unusual show force adm robert willard pacific commander wanted send carrier aggressive course yellow sea north korea china chinese foreign ministry warned united state move willard reason press forward pushed chairman joint chief staff mike mullen turn pushed bos defense secretary reroute george washington gate agreed needed commander chief sign decision could political well military repercussion gate laid case diverting george washington yellow sea united state look yielding china clinton strongly seconded got run gut said aide day earlier vince lombardi imitation drew giggle staff even month tenure still marveled pugnacity obama though persuaded george washington already underway changing course decision make fly call audible aircraft carrier said unwittingly clinton football metaphor last debate would side gate two quickly discovered shared midwestern upbringing taste stiff drink long day work skepticism intention america foe bruce riedel former intelligence analyst conducted obama initial review afghanistan war say think one surprise gate military come expecting administration discover secretary state little bit right issue little eager certain extent particularly afghanistan think gate knew done knew troop needed sent lot doubt whether would work hillary clinton make another run president tempting view rhetoric world le deeply felt core principle calculated political maneuver clinton instinct bred bone grounded cold realism human nature one aide call textbook view american exceptionalism set apart barack obama avoided military entanglement tried reconcile american world united state longer undisputed hegemon likely set apart republican candidate meet general election bluster bombing islamic state oblivion neither donald j trump senator ted cruz texas demonstrated anywhere near appetite military engagement abroad clinton hillary much member traditional american establishment say vali nasr strategist advised pakistan afghanistan state department belief like president going back reagan kennedy year importance military solving terrorism asserting american influence shift obama went reliance military intelligence agency position need deal terrorism n c drone special ops c gave obama angle simultaneously hawkish shun using military unlike recent president obama george w bush husband bill clinton hillary clinton would assume office long record national security many way examine record one revealing explore cultivation military civilian leader like gate also commander men medal affinity armed force rooted lifelong belief calculated use military power vital defending national interest american intervention good harm writ united state properly reach bush put dark corner world unexpectedly bombastic presidential election hillary clinton last true hawk left race know clinton biography embrace military come surprise grew buoyant aftermath world war ii daughter navy petty officer trained young sailor shipped pacific father hugh rodham staunch republican anticommunist channeled view talk often girlhood dream becoming astronaut citing rejection letter got nasa first time encountered gender discrimination real motive volunteering written may father fretted america lagging behind russia political conversion came later vietnam swept wellesley college spoke establishment graduation even tumultuous year still making transition republican democrat managing go convention party republican intern washington summer questioned wisconsin congressman melvin laird wisdom lyndon b johnson escalating involvement southeast asia law school curious encounter military year married bill clinton stopped marine recruiting office arkansas inquire joining active force reserve lawyer explained maybe way could serve recruiter recalled two decade later young man prime physical condition clinton freshly transplanted washington teaching law university arkansas fayetteville wearing eyeglass old see woman told maybe dog take added said pejorative reference army encouraging conversation clinton said lunch military woman capitol hill decided maybe look another way serve country reporter cast doubt veracity story repeated fall breakfast voter new hampshire certainly concrete evidence happened bill gave different account substituting army marine would professionally minded yale law graduate cusp marriage suddenly want put uniform impossible decipher possible motif ann henry old friend taught university clinton moved little rock offer theory day recall female faculty member exercise would test boundary career appeared closed woman think made say consistent something would done clinton next sustained exposure military come first lady almost two decade later living white house many way like living military compound marine stand guard front west wing president oval office mili tary office operates medical center telecommunication system navy run cafeteria marine transport president helicopter air force plane camp david naval facility daily contact men woman uniform clinton friend say deepened feeling march first lady visited american troop stationed bosnia trip became notorious year later claimed campaign dodged sniper fire military plane landed american base tuzla chris hill diplomat onboard day later served ambassador iraq clinton remember sniper indeed recalled child handing bouquet spring flower faking good vibe tour mess rec hall teenage daughter side bantered joked young serviceman woman experience wrote left lasting impression chelsea clinton elected senate strong political reason care mili tary pentagon midst long politically charged process closing military base new york state already victim plattsburgh air force base closed loss civilian job north country town new york delegation determined protect remaining base especially fort drum home army th mountain division sprawl hundred thousand acre rural jefferson county october month terrorist attack clinton traveled fort drum invitation gen buster hagenbeck named division commander would deployed afghanistan month later like many officer spoke preconception clinton year first lady woman showed office around happy hour afternoon fulfill sat recall took shoe put foot coffee table said general know gal get cold beer around u start dialogue stretched two war spring hagenbeck led operation anaconda assault taliban al qaeda fighter valley largest combat engagement war date general came back washington brief joint chief staff clinton took dinner capitol hill briefing also spoke bush administration preparation war iraq something hagenbeck following anxiously general turned dove senator warned risk invasion inside pentagon would like kicking bee nest said hagenbeck excused clinton vote authorize military action iraq made considered call say chagrined much fact mattered clinton voting record unstinting public support military whether protecting fort drum backing difficult first year afghanistan clinton education military affair began earnest democratic party crushing defeat midterm election moved several rung senate seniority party congressional leader offered seat either senate foreign relation committee senate armed service committee chose armed service spurning long tradition new york senator like daniel patrick moynihan jacob javits coveted prestige foreign relation armed service deal earthbound issue like benefit veteran long preserve republican hawk like john mccain clinton saw armed service better preparation future politician looking hone credential woman aspired commander chief perfect training ground dug like grunt boot camp andrew shapiro senator clinton adviser called upon expert including bill perry defense secretary husband ashton carter would eventually become president obama fourth defense secretary tutor everything grand strategy defense procurement met quietly andrew marshall octogenarian strategist pentagon labored decade blandly named office net assessment earning nickname yoda delphic insight went every committee meeting matter mundane aide recall sitting alone chamber patiently questioning lieutenant colonel visited troop afghanistan thanksgiving day spoke every significant military installation new york state year recalled rejected marine recruiter arkansas hillary clinton become military wonk jack keane one intellectual architect iraq surge also perhaps greatest single influence way hillary clinton think military issue bear man jowly careworn face hair keane exudes supreme would expect retired general speaks trace new york accent give pronouncement urgency also member complex sitting board general dynamic serving strategic adviser academi contractor known blackwater chairman aptly named think tank institute study war though one parade general keane resident hawk fox news appears regularly call united state use greater military force iraq syria afghanistan shrink putting boot ground little use civilian leader like obama keane first got know clinton fall freshman senator army second command distinguished combat command record vietnam somalia haiti bosnia kosovo expected intelligent politically astute prepared respect showed army institution sympathy sacrifice made soldier family keane confident could smell phony politician mile away get whiff read people one strength told fooled fooled often clinton took instant liking keane love irish gruff thing say one senate aide kris balderston room day keane got minute leave meeting back pentagon polish general protested finished yet asked another appointment said k took three month get one u keane told dryly clinton exploded raucous laugh take care problem promised true word two would meet many time next decade discussing war afghanistan iraq iranian nu clear threat flash point middle east sometimes dropped senate office time met dinner drink escorted first visit fort drum set first trip iraq generally agreed forgo talk politics meeting clinton senate office january keane tried sell logic troop surge iraq previous month met president bush oval office recommend united state deploy five eight army marine brigade wage urban counterinsurgency campaign argued would stabilize country ripped apart sectarian strife presentation angered keane fellow general feared strategy would deepen iraq dependency prolong america involvement big impact commander chief soon ordered additional troop iraq clinton another story convinced going work jack told predicted american soldier patrolling iraqi city town would blown sunni militia al qaeda fighter thought would fail keane recall going cause increased casualty politics course also mind barack obama laying groundwork candidacy campaign would emphasize opposition iraq war vote favor vote still shadow year democratic primary obama setting drive would net million three month sending tremor clinton political camp establishing formidable rival although disagreed keane iraq clinton asked become formal adviser much respect replied keane wife health problem moved retirement army policy endorse candidate sometime remember exactly clinton told erred doubting wisdom surge said right really work u keane recall issue national security say thought always intellectually honest clinton continued talk even obama elected became secretary state often found sync keane like clinton favored robust intervention syria obama april week announced candidacy clinton asked briefing military option dealing fighter islamic state bringing along three young female analyst institute study war keane gave presentation among step advocated imposing zone part syria would neutralize air power syrian president bashar goal forcing political settlement opposition group six month later clinton publicly adopted position distancing obama convinced president matter circumstance never put boot ground anything even compelling keane told sitting library home mclean va lined book military history strategy critique obama hardly new original much mirror thinking clinton policy adviser one problem president weakens diplomatic effort leader believe would use military power issue would separate president hillary clinton rather dramatically would look military force another realistic option option befriending keane cultivating single adviser gave clinton instant entree informal network retired general interesting far david petraeus cerebral commander shared clinton ambition whose life story would mix heady success humbling setback would accused mishandling classified information clinton use private server email address conduct sensitive government business decision erupted political scandal petraeus given diary containing classified information biographer mistress eventually charged misdemeanor mishandling classified information clinton first trip iraq november petraeus general commanding st airborne division flew field headquarters mosul relative safety kirkuk brief congressional delegation full question recall kind gesture mean lot battlefield commander subsequent trip rose rank petraeus walked plan train equip iraqi army troop forerunner counterinsurgency strategy afghanistan worked mutual benefit petraeus building tie prominent democratic voice senate clinton burnishing image friend troop way say pursuing relationship petraeus sent back iraq top commander early gave every member senate armed service committee copy u corp counterinsurgency field manual edited tour fort leavenworth clinton read cover cover although clinton reservation surge valid stability additional troop brought iraq last opposition like vote war came back haunt time ally bob gate summoned ghost memoir gate wrote confessed president position politically motivated facing obama iowa caucus obama wrote vaguely conceded opposed political reason clinton pushed back telling diane sawyer abc news gate perhaps either missed context meaning oppose surge opposition told sawyer driven fact time people going accept escalation war politics electoral political term clinton said politics sense american public support commitment like next time found debate sending troop harm way voiced reservation need map hillary clinton told aide early october returned meeting situation room obama war cabinet debating many additional troop send afghanistan united state preoccupied iraq allowed taliban regroup pentagon reported used impressive map show plan deploy troop around country attention detail made gate commander look crisp well prepared state department pushing civilian surge accompany troop looked wan comparison next meeting oct team state unfurled map show deployment army aid worker diplomat legal expert crop specialist supposed follow soldier afghanistan clinton fixation map typical first great debate obama presidency wanted taken seriously even department le central pentagon one way promoting civilian surge pet project friend special envoy region richard holbrooke determined briefing book would thick meticulous pentagon senior adviser recall also hesitate get pentagon business asking detailed question training afghan troop wading weed military planning resolved miss anything determination may rooted deeper insecurity role become white administration modern era morning june emailed two aide say heard radio cabinet mtg go sending feb dialed white house home get past switchboard operator believe really hillary clinton asked provide office number prove identity said know finally clinton hung frustration placed call state department operation center like proper properly dependent secretary state later wrote one aide tone independent dialing allowed afghan troop debate drama dueling ego leaked document endless deliberation typically framed test will pentagon wily military commander inexperienced young president joe biden playing role devil advocate obama portrait accurate neglect role clinton siding gate general gave political ballast proposal provided bullish counterpoint biden skepticism role overstated turn debate bring distinctive point view unstinting support general mcchrystal maximalist recommendation made harder obama choose lesser option mcchrystal later fired obama aide made derogatory remark almost every member war cabinet rolling stone magazine exception hillary stan back one aide told reporter michael hastings hillary adamant support stan asked gate say made clear ready support request full troop made clear willing go number proposed way tougher number surge gate believed could align clinton chairman joint chief staff mike mullen commander central command david petraeus behind common position would hard obama say could ignore four horseman national security say geoff morrell served pentagon press secretary time clinton benefited alliance military commander gave political cover dirty little secret say tom nides former deputy secretary state management resource knew wanted side knew walked situation room made huge difference dynamic opened mouth could change momentum room david axelrod recall one meeting clinton kicked thing pretty much articulated opinion sure one remember doubt wanted give every troop mcchrystal asking still clinton prevail every argument agreeing send troop obama added condition soldier deployed quickly possible pulled starting summer deadline proved fateful long run difference troop clinton opposed setting public deadline withdrawal arguing would tip america hand taliban encourage wait united state fact exactly happened final day debate clinton also found odds ambassador kabul karl eikenberry held different view wisdom surge put writing nov long cable addressed clinton later leaked new york time made trenchant convincing case mcchrystal proposal endorsed two week earlier meeting obama would saddle united state vastly increased cost indefinite military role afghanistan much eikenberry analysis proved prescient particularly warning threadbare american partnership afghan president hamid karzai carried extra sting retired army general commander afghanistan clinton asked cable furious fearing could upset debate pentagon prevail cable made clear degree afghanistan debate dominated military consideration clinton raise need deal afghanistan neighbor pakistan reflexive support gate petraeus mcchrystal meant powerful voice diplomatic alternative contributed overmilitarizing analysis problem say sarah chayes adviser mcchrystal later chairman joint chief staff mike mullen october persistent violence afghanistan legacy karzai misrule forced obama reverse plan withdraw last american soldier end presi dency thousand troop stay indefinitely clinton talk civilian surge never really materialized clinton afghanistan episode laid bare vexed relationship eikenberry one general hit graduate degree harvard stanford eikenberry brilliant reputation among colleague imperious clinton similarly chilly relationship douglas lute another army lieutenant general graduate degree harvard also fought holbrooke like mcchrystal petraeus keane one aide observes real military guy retired go civilian job doubt hillary clinton muscular brand american foreign policy better matched said jake sullivan top policy adviser state department play role campaign de cem ber day iowa caucus sullivan sitting clinton sprawling brooklyn headquarters explain shaping message campaign suddenly dominated concern national security clinton strategy said twofold explain voter clear plan confronting threat posed islamic terrorism expose republican opponent utterly lacking experience credibility national security good reason clinton let inner hawk fly attack paris san bernardino calif american concern major attack nation spiked poll taken paris showed majority percent favored sending ground troop iraq syria remarkable shift sentiment prevailed obama presidency republican candidate reaching apocalyptic metaphor demonstrate resolve ted cruz threatened islamic state test whether desert sand glow donald trump called united state ban muslim entering country able determine understand problem dangerous threat pose yet spike public appetite mili tary action tend transitory three week later poll showed even split percent whether deploy troop neither trump cruz favor major new deployment american soldier iraq syria matter clinton anything skeptical clinton intervention circumspect maintaining nation war ii military commitment trump loudly proclaims opposition iraq war want united state spend le underwrite nato talked withdrawing american security umbrella asia even mean japan south korea would acquire nuclear weapon defend cruz unlike clinton opposed aiding syrian rebel supported pentagon budget constraint advocated isolationist colleague senator rand paul kentucky thus might gen eral election present voter unfamiliar choice democratic hawk versus republican reluctant warrior thwart progressive insurgency senator bernie sander vermont clinton carefully calibrated message democratic primary align closely barack obama racially diverse coalition pivot general election balancing act obama become trickier going huge amount interest press sullivan say easily become sport distracts ability make affirmative case showing stripe prospective commander chief clinton doubt draw heavily upon state department experience filtering lesson learned libya syria iraq sinewy worldview held since childhood last fall series policy speech clinton began limning distinction president national security said united state consider sending troop iraq obama committed help iraqi kurd fight islamic state came favor partial zone syria described threat posed isi american starker term often case clinton obama difference le direction degree calling ground troop middle east clinton insisted plan break merely intensification acceleration open question well clinton hawkish instinct match country mood american weary war remain suspicious foreign entanglement yet retrenchment obama year polling evidence equally dissatisfied portrait country spent force managing decline amid world rising power like china resurgent empire like vladimir putin russia lethal new force like islamic state obama minimalist approach necessary reaction maximalist style predecessor perhaps american yearn something kind pragmatism clinton spent lifetime honing president made tough decision say leon panetta served obama defense secretary bob gate director c david petraeus mixed record concern president defining america role world st century happened hopefully added acknowledging time obama left certainly would'"
            ]
          },
          "metadata": {
            "tags": []
          },
          "execution_count": 19
        }
      ]
    },
    {
      "cell_type": "code",
      "metadata": {
        "id": "gDLNSxYb-zow"
      },
      "source": [
        "from sklearn.feature_extraction.text import TfidfVectorizer\n",
        "cv=TfidfVectorizer(max_features=5000, ngram_range=(1,3))\n",
        "x=cv.fit_transform(corpus).toarray()"
      ],
      "execution_count": 20,
      "outputs": []
    },
    {
      "cell_type": "code",
      "metadata": {
        "id": "kyMXGf8j-0MC",
        "outputId": "7dc59a6a-8b38-4195-d291-f7ea780b8f2a",
        "colab": {
          "base_uri": "https://localhost:8080/",
          "height": 127
        }
      },
      "source": [
        "y=df.label\n",
        "y.head()"
      ],
      "execution_count": 21,
      "outputs": [
        {
          "output_type": "execute_result",
          "data": {
            "text/plain": [
              "0    1\n",
              "1    0\n",
              "2    1\n",
              "3    1\n",
              "4    1\n",
              "Name: label, dtype: int64"
            ]
          },
          "metadata": {
            "tags": []
          },
          "execution_count": 21
        }
      ]
    },
    {
      "cell_type": "code",
      "metadata": {
        "id": "nkuugC8s-0yo",
        "outputId": "d41e479b-f5bc-47b3-8214-225462486f9e",
        "colab": {
          "base_uri": "https://localhost:8080/",
          "height": 35
        }
      },
      "source": [
        "x.shape"
      ],
      "execution_count": 23,
      "outputs": [
        {
          "output_type": "execute_result",
          "data": {
            "text/plain": [
              "(18285, 5000)"
            ]
          },
          "metadata": {
            "tags": []
          },
          "execution_count": 23
        }
      ]
    },
    {
      "cell_type": "code",
      "metadata": {
        "id": "SnnT_5H9-1aI"
      },
      "source": [
        "from sklearn.model_selection import train_test_split\n",
        "x_train, x_test, y_train, y_test = train_test_split(x, y, test_size=0.2, random_state=0)"
      ],
      "execution_count": 24,
      "outputs": []
    },
    {
      "cell_type": "code",
      "metadata": {
        "id": "L7wTMuy7-1_i"
      },
      "source": [
        "from sklearn.naive_bayes import MultinomialNB\n",
        "clf=MultinomialNB()\n",
        "clf.fit(x_train, y_train)\n",
        "y_pred=clf.predict(x_test)"
      ],
      "execution_count": 25,
      "outputs": []
    },
    {
      "cell_type": "code",
      "metadata": {
        "id": "hrVKSSpq_5k2",
        "outputId": "14f02c75-48c6-49bb-f2f3-225c8fc9c1ac",
        "colab": {
          "base_uri": "https://localhost:8080/",
          "height": 237
        }
      },
      "source": [
        "from sklearn.metrics import confusion_matrix, classification_report, accuracy_score\n",
        "print(confusion_matrix(y_test, y_pred))\n",
        "print(classification_report(y_test, y_pred))\n",
        "print('accuracy_score: ', accuracy_score(y_test, y_pred))"
      ],
      "execution_count": 26,
      "outputs": [
        {
          "output_type": "stream",
          "text": [
            "[[1954   86]\n",
            " [ 270 1347]]\n",
            "              precision    recall  f1-score   support\n",
            "\n",
            "           0       0.88      0.96      0.92      2040\n",
            "           1       0.94      0.83      0.88      1617\n",
            "\n",
            "    accuracy                           0.90      3657\n",
            "   macro avg       0.91      0.90      0.90      3657\n",
            "weighted avg       0.91      0.90      0.90      3657\n",
            "\n",
            "accuracy_score:  0.9026524473612251\n"
          ],
          "name": "stdout"
        }
      ]
    }
  ]
}